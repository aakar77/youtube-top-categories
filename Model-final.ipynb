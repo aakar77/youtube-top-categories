{
 "cells": [
  {
   "cell_type": "code",
   "execution_count": 1,
   "metadata": {
    "collapsed": true
   },
   "outputs": [],
   "source": [
    "import csv\n",
    "import pandas as pd\n",
    "import numpy as np\n",
    "import sys\n",
    "from scipy import stats\n",
    "import matplotlib.pyplot as plt"
   ]
  },
  {
   "cell_type": "code",
   "execution_count": 2,
   "metadata": {},
   "outputs": [
    {
     "data": {
      "text/plain": [
       "(30000, 12)"
      ]
     },
     "execution_count": 2,
     "metadata": {},
     "output_type": "execute_result"
    }
   ],
   "source": [
    "data = pd.read_csv('data_new.csv', nrows=30000, encoding='utf-8')\n",
    "data.viewCount\n",
    "data.shape"
   ]
  },
  {
   "cell_type": "markdown",
   "metadata": {},
   "source": [
    "# Cleaning"
   ]
  },
  {
   "cell_type": "code",
   "execution_count": 3,
   "metadata": {
    "collapsed": true
   },
   "outputs": [],
   "source": [
    "count=0\n",
    "index_list=[]\n",
    "\n",
    "\n",
    "for index, row in data.iterrows():\n",
    "    try:\n",
    "        row.viewCount = int(row.viewCount)\n",
    "        row.likeCount = int(row.likeCount)\n",
    "        row.dislikeCount = int(row.dislikeCount)\n",
    "        row.favoriteCount = int(row.favoriteCount)\n",
    "        row.commentCount = int(row.commentCount)\n",
    "    except:\n",
    "        #count = count+1\n",
    "        #print(row.viewCount)\n",
    "        #data = data.drop(data.index[index])\n",
    "        index_list.append(index)\n",
    "        #print(data.shape)\n",
    "        \n",
    "        \n",
    "data = data.drop(data.index[index_list])\n",
    "#print(count)"
   ]
  },
  {
   "cell_type": "code",
   "execution_count": 4,
   "metadata": {
    "collapsed": true
   },
   "outputs": [],
   "source": [
    "data['videoId'] = data['videoId'].astype('str')\n",
    "data['category'] = data['category'].astype('str')\n",
    "data['publishedAt'] = data['publishedAt'].astype('datetime64[ns]')\n",
    "data['description'] = data['description'].astype('str')\n",
    "data['channelTitle'] = data['channelTitle'].astype('str')\n",
    "data['viewCount'] = data['viewCount'].astype('float')\n",
    "data['likeCount'] = data['likeCount'].astype('float')\n",
    "data['dislikeCount'] = data['dislikeCount'].astype('float')\n",
    "data['favoriteCount'] = data['favoriteCount'].astype('float')\n",
    "data['commentCount'] = data['commentCount'].astype('float')"
   ]
  },
  {
   "cell_type": "code",
   "execution_count": 5,
   "metadata": {},
   "outputs": [
    {
     "name": "stdout",
     "output_type": "stream",
     "text": [
      "       videoId        category         publishedAt  \\\n",
      "0  0H_klG0ZWd4           Music 2007-12-31 23:58:35   \n",
      "1  0Z7X0fy3Ews  Pets & Animals 2017-02-04 23:00:00   \n",
      "2  0vYIicuAZ6o          Gaming 2016-12-24 20:38:51   \n",
      "3  1BT1tPbZwg0    Short Movies 2015-12-21 12:38:36   \n",
      "4  21P_D2pwLXs        Classics 2017-03-30 10:17:38   \n",
      "\n",
      "                                               title  \\\n",
      "0                     Damien Rice - Delicate (Cover)   \n",
      "1  Funny moments animals and pets cute animals vi...   \n",
      "2                                      Point Blank#1   \n",
      "3  Anti ragging - a short film on college ragging...   \n",
      "4  Thonet reinterprets classic bentwood 209 chair...   \n",
      "\n",
      "                                         description  \\\n",
      "0                                                nan   \n",
      "1  Subscribe: https://goo.gl/MlxSfy TNTL-Tv inclu...   \n",
      "2                                     Point Blank :)   \n",
      "3  Give your feedback on https://www.facebook.com...   \n",
      "4  Philipp Thonet explains how furniture manufact...   \n",
      "\n",
      "                  channelId            channelTitle  viewCount  likeCount  \\\n",
      "0  UCdkt40gW5A2oc6GYXME2gKA              Jason Pham      485.0        8.0   \n",
      "1  UCzd8xuZgWyHMtJUydQwGPtg  Try Not To Laugh VINES        4.0        1.0   \n",
      "2  UCat-XJvWsI73mopWReJw0aw            Abang GAMING        0.0        0.0   \n",
      "3  UCq2Btdtbok0Y1Yvvi0i5D6w       The BEST of INDIA    61252.0      555.0   \n",
      "4  UCsWG9ANbrmgR0z-eFk_A3YQ                  Dezeen     2224.0       24.0   \n",
      "\n",
      "   dislikeCount  favoriteCount  commentCount  \n",
      "0           0.0            0.0           7.0  \n",
      "1           0.0            0.0           1.0  \n",
      "2           0.0            0.0           0.0  \n",
      "3          44.0            0.0          41.0  \n",
      "4           1.0            0.0           0.0  \n"
     ]
    }
   ],
   "source": [
    "data.drop('channelId', axis=1)\n",
    "data.drop('favoriteCount', axis=1)\n",
    "print(data.head())"
   ]
  },
  {
   "cell_type": "markdown",
   "metadata": {},
   "source": [
    "# Merging"
   ]
  },
  {
   "cell_type": "code",
   "execution_count": 6,
   "metadata": {
    "collapsed": true
   },
   "outputs": [],
   "source": [
    "top_view_data= pd.read_csv('top_view.csv', encoding='utf-8')"
   ]
  },
  {
   "cell_type": "code",
   "execution_count": null,
   "metadata": {},
   "outputs": [
    {
     "data": {
      "text/plain": [
       "(310,)"
      ]
     },
     "execution_count": 7,
     "metadata": {},
     "output_type": "execute_result"
    }
   ],
   "source": [
    "top_view_ids = top_view_data['videoId'].astype('str')\n",
    "top_view_ids.shape"
   ]
  },
  {
   "cell_type": "code",
   "execution_count": null,
   "metadata": {},
   "outputs": [],
   "source": [
    "count=0\n",
    "video_list=[]\n",
    "for index, video in enumerate(data.videoId):\n",
    "    #print(video)\n",
    "    if str(video) in str(top_view_ids):\n",
    "        count= count+1\n",
    "        video_list.append(index)\n",
    "        \n",
    "print(video_list)"
   ]
  },
  {
   "cell_type": "code",
   "execution_count": null,
   "metadata": {},
   "outputs": [],
   "source": [
    "#print(data.columns)\n",
    "top=[]\n",
    "for video in data.iterrows():\n",
    "    print((video[1].videoId))\n",
    "    if video[1].videoId in top_view_ids:\n",
    "        video[1].top_view = True\n",
    "    else:\n",
    "         video[1].top_view= False\n",
    "print(data.head())"
   ]
  },
  {
   "cell_type": "code",
   "execution_count": null,
   "metadata": {
    "collapsed": true
   },
   "outputs": [],
   "source": [
    "data.to_csv('complete_data.csv')"
   ]
  },
  {
   "cell_type": "markdown",
   "metadata": {},
   "source": [
    "#  Preprocessing"
   ]
  },
  {
   "cell_type": "code",
   "execution_count": null,
   "metadata": {
    "collapsed": true
   },
   "outputs": [],
   "source": [
    "title_dum = pd.get_dummies(data.title, prefix = 'title_dum')\n",
    "description_dum = pd.get_dummies(data.description, prefix = 'description_dum')\n",
    "channelTitle_dum = pd.get_dummies(data.channelTitle, prefix = 'channelTitle_dum')\n",
    "category_dum = pd.get_dummies(data.category, prefix = 'category_dum')\n",
    "publishedAt_dum = pd.get_dummies(data.publishedAt, prefix = 'publishedAt_dum')\n",
    "\n",
    "data = pd.concat([data, title_dum], axis = 1)\n",
    "data = pd.concat([data, description_dum], axis = 1)\n",
    "data = pd.concat([data, channelTitle_dum], axis = 1)\n",
    "data = pd.concat([data, category_dum], axis = 1)\n",
    "data = pd.concat([data, publishedAt_dum], axis = 1)"
   ]
  },
  {
   "cell_type": "code",
   "execution_count": null,
   "metadata": {},
   "outputs": [],
   "source": [
    "data = data.drop('title', axis=1)\n",
    "data = data.drop('description', axis=1)\n",
    "data = data.drop('channelTitle', axis=1)\n",
    "data = data.drop('channelId', axis=1)\n",
    "data = data.drop('publishedAt', axis=1)\n",
    "data = data.drop('category', axis=1)\n",
    "data = data.drop('videoId', axis=1)\n",
    "data = data.drop('viewCount',axis=1)\n",
    "\n",
    "print(data.head())"
   ]
  },
  {
   "cell_type": "code",
   "execution_count": null,
   "metadata": {},
   "outputs": [],
   "source": [
    "data['top_view'] = ''\n",
    "data['top_view'] = data['top_view'].astype('bool')\n",
    "for index in video_list:\n",
    "    data.top_view[data.index[index]] = True\n",
    "\n",
    "data.head()"
   ]
  },
  {
   "cell_type": "markdown",
   "metadata": {},
   "source": [
    "# Modeling"
   ]
  },
  {
   "cell_type": "code",
   "execution_count": null,
   "metadata": {
    "collapsed": true
   },
   "outputs": [],
   "source": [
    "X = data.iloc[:,0:data.shape[1]-1].values\n",
    "y = data.iloc[:,data.shape[1]-1].values"
   ]
  },
  {
   "cell_type": "code",
   "execution_count": null,
   "metadata": {
    "collapsed": true
   },
   "outputs": [],
   "source": [
    "from sklearn.model_selection import train_test_split\n",
    "X_data_train, X_data_test, Y_data_train, Y_data_test = train_test_split(X, y, train_size=0.75, random_state = 1)"
   ]
  },
  {
   "cell_type": "markdown",
   "metadata": {},
   "source": [
    "# Random Forest"
   ]
  },
  {
   "cell_type": "code",
   "execution_count": null,
   "metadata": {},
   "outputs": [],
   "source": [
    "from sklearn.ensemble import RandomForestClassifier\n",
    "\n",
    "clf = RandomForestClassifier(max_depth=2, random_state=0)\n",
    "clf.fit(X_data_train, Y_data_train)"
   ]
  },
  {
   "cell_type": "code",
   "execution_count": null,
   "metadata": {},
   "outputs": [],
   "source": [
    "importances = clf.feature_importances_\n",
    "importances=-np.sort(-importances)\n",
    "importances = importances[:20]\n",
    "print(importances)"
   ]
  },
  {
   "cell_type": "code",
   "execution_count": null,
   "metadata": {
    "collapsed": true
   },
   "outputs": [],
   "source": [
    "indices=np.argsort(importances)[::-1]"
   ]
  },
  {
   "cell_type": "code",
   "execution_count": null,
   "metadata": {
    "collapsed": true
   },
   "outputs": [],
   "source": [
    "xaxis = data.columns\n",
    "new_axis=[]\n",
    "for item in indices:\n",
    "    new_axis.append(xaxis[item])"
   ]
  },
  {
   "cell_type": "markdown",
   "metadata": {},
   "source": [
    "# Plotting feature importances"
   ]
  },
  {
   "cell_type": "code",
   "execution_count": null,
   "metadata": {},
   "outputs": [],
   "source": [
    "plt.figure(figsize=(25,25))\n",
    "plt.title(\"Feature importances\",fontsize=10)\n",
    "plt.bar(range(len(importances)), importances , color=\"r\", align=\"center\",width=0.3)\n",
    "plt.xticks(range(20),new_axis[0:20],rotation='vertical',fontsize=20)\n",
    "plt.ylabel(\"feature-importance\",fontsize=25)\n",
    "plt.show()"
   ]
  },
  {
   "cell_type": "markdown",
   "metadata": {},
   "source": [
    "# Accuracy"
   ]
  },
  {
   "cell_type": "code",
   "execution_count": null,
   "metadata": {},
   "outputs": [],
   "source": [
    "from sklearn.metrics import accuracy_score\n",
    "predictions = clf.predict(X_data_train)\n",
    "accuracyTrain = accuracy_score(predictions,Y_data_train)\n",
    "print(\"Accuracy from the training data set prediction is\",accuracyTrain*100,\"%\")"
   ]
  },
  {
   "cell_type": "code",
   "execution_count": null,
   "metadata": {},
   "outputs": [],
   "source": [
    "predictions = clf.predict(X_data_test)\n",
    "accuracyTest = accuracy_score(predictions,Y_data_test)\n",
    "print(\"Accuracy from the testing data set prediction is\",accuracyTest*100,\"%\")"
   ]
  },
  {
   "cell_type": "markdown",
   "metadata": {},
   "source": [
    "# Precision Recall score"
   ]
  },
  {
   "cell_type": "code",
   "execution_count": null,
   "metadata": {},
   "outputs": [],
   "source": [
    "from sklearn.metrics import precision_recall_fscore_support\n",
    "precision_micro,recall_micro,f_beta_score_micro,fscore_micro= precision_recall_fscore_support(Y_data_test, predictions, average='micro')\n",
    "precision_weighted,recall_weighted,f_beta_score_weighted,fscore_weighted= precision_recall_fscore_support(Y_data_test, predictions, average='weighted')\n",
    "\n",
    "print(\"Recall micro: {}\".format(recall_micro))\n",
    "print(\"Recall weighted: {}\".format(recall_weighted))"
   ]
  }
 ],
 "metadata": {
  "kernelspec": {
   "display_name": "Python 3",
   "language": "python",
   "name": "python3"
  },
  "language_info": {
   "codemirror_mode": {
    "name": "ipython",
    "version": 3
   },
   "file_extension": ".py",
   "mimetype": "text/x-python",
   "name": "python",
   "nbconvert_exporter": "python",
   "pygments_lexer": "ipython3",
   "version": "3.6.1"
  }
 },
 "nbformat": 4,
 "nbformat_minor": 2
}
